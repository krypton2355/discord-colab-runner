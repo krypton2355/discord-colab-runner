{
  "nbformat": 4,
  "nbformat_minor": 0,
  "metadata": {
    "colab": {
      "provenance": []
    },
    "kernelspec": {
      "name": "python3",
      "display_name": "Python 3"
    },
    "language_info": {
      "name": "python"
    }
  },
  "cells": [
    {
      "cell_type": "code",
      "execution_count": null,
      "metadata": {
        "id": "YHaJaH7uKrox"
      },
      "outputs": [],
      "source": [
        "!pip install playwright\n",
        "!playwright install chromium\n",
        "!pip install nest_asyncio\n",
        "\n"
      ]
    },
    {
      "cell_type": "code",
      "source": [
        "from google.colab import drive\n",
        "drive.mount('/content/drive')  # Only asks once for same account\n",
        "\n",
        "!unzip -o /content/drive/MyDrive/discord_profile.zip -d /content/\n"
      ],
      "metadata": {
        "id": "kF3_WbyrW5pI"
      },
      "execution_count": null,
      "outputs": []
    },
    {
      "cell_type": "code",
      "source": [
        "import getpass\n",
        "\n",
        "# Input your login details\n",
        "email = input(\"Enter your Discord email: \")\n",
        "password = getpass.getpass(\"Enter your Discord password (input hidden): \")\n"
      ],
      "metadata": {
        "id": "bxy8reDcO2TR"
      },
      "execution_count": null,
      "outputs": []
    },
    {
      "cell_type": "code",
      "source": [
        "import asyncio\n",
        "from playwright.async_api import async_playwright\n",
        "\n",
        "profile_dir = \"/content/discord_profile\"  # Your uploaded logged-in session\n",
        "\n",
        "async def get_token():\n",
        "    async with async_playwright() as p:\n",
        "        browser = await p.chromium.launch_persistent_context(\n",
        "            user_data_dir=profile_dir,\n",
        "            headless=True,\n",
        "        )\n",
        "        page = await browser.new_page()\n",
        "\n",
        "        print(\"🔁 Opening Discord...\")\n",
        "        await page.goto(\"https://discord.com/channels/@me\", timeout=60000)\n",
        "\n",
        "        token = await page.evaluate(\"() => localStorage.getItem('token')\")\n",
        "        print(\"\\n✅ Extracted Token:\\n\", token)\n",
        "\n",
        "        await browser.close()\n",
        "        return token\n"
      ],
      "metadata": {
        "id": "1yjhy4dLPFCU"
      },
      "execution_count": null,
      "outputs": []
    },
    {
      "cell_type": "code",
      "source": [
        "import nest_asyncio\n",
        "nest_asyncio.apply()\n",
        "\n",
        "token = await get_token()\n"
      ],
      "metadata": {
        "id": "dK8bZ_VfPMO_"
      },
      "execution_count": null,
      "outputs": []
    }
  ]
}
{
  "nbformat": 4,
  "nbformat_minor": 0,
  "metadata": {
    "colab": {
      "provenance": []
    },
    "kernelspec": {
      "name": "python3",
      "display_name": "Python 3"
    },
    "language_info": {
      "name": "python"
    }
  },
  "cells": [
    {
      "cell_type": "code",
      "execution_count": null,
      "metadata": {
        "id": "YHaJaH7uKrox"
      },
      "outputs": [],
      "source": [
        "!pip install playwright\n",
        "!playwright install chromium\n",
        "!pip install nest_asyncio\n",
        "\n"
      ]
    },
    {
      "cell_type": "code",
      "source": [
        "from google.colab import drive\n",
        "drive.mount('/content/drive')  # Only asks once for same account\n",
        "\n",
        "!unzip -o /content/drive/MyDrive/discord_profile.zip -d /content/\n"
      ],
      "metadata": {
        "id": "kF3_WbyrW5pI"
      },
      "execution_count": null,
      "outputs": []
    },
    {
      "cell_type": "code",
      "source": [
        "import asyncio\n",
        "import os\n",
        "from playwright.async_api import async_playwright\n",
        "\n",
        "profile_dir = \"/content/discord_profile\"  # Your downloaded session from GitHub\n",
        "\n",
        "async def get_token():\n",
        "    async with async_playwright() as p:\n",
        "        browser = await p.chromium.launch_persistent_context(\n",
        "            user_data_dir=profile_dir,\n",
        "            headless=True,\n",
        "        )\n",
        "        page = await browser.new_page()\n",
        "\n",
        "        print(\"🔁 Opening Discord...\")\n",
        "        await page.goto(\"https://discord.com/channels/@me\", timeout=60000)\n",
        "\n",
        "        token = await page.evaluate(\"() => localStorage.getItem('token')\")\n",
        "\n",
        "        if token:\n",
        "            # Save token to text file\n",
        "            filename = \"discord_token.txt\"\n",
        "            with open(filename, 'w') as f:\n",
        "                f.write(token)\n",
        "\n",
        "            print(f\"✅ Token extracted and saved to {filename}\")\n",
        "            print(f\"📁 File saved in: {os.path.abspath(filename)}\")\n",
        "\n",
        "            # For GitHub Actions - print the token directly to logs\n",
        "            print(\"=\" * 50)\n",
        "            print(\"🔑 EXTRACTED DISCORD TOKEN:\")\n",
        "            print(token)\n",
        "            print(\"=\" * 50)\n",
        "\n",
        "            # Also save with timestamp for uniqueness\n",
        "            import datetime\n",
        "            timestamp = datetime.datetime.now().strftime(\"%Y%m%d_%H%M%S\")\n",
        "            timestamped_filename = f\"discord_token_{timestamp}.txt\"\n",
        "            with open(timestamped_filename, 'w') as f:\n",
        "                f.write(token)\n",
        "\n",
        "            print(f\"📄 Also saved as: {timestamped_filename}\")\n",
        "\n",
        "        else:\n",
        "            print(\"❌ No token found\")\n",
        "            print(\"🔍 Possible issues:\")\n",
        "            print(\"   - Discord profile might be corrupted\")\n",
        "            print(\"   - Session might have expired\")\n",
        "            print(\"   - Profile directory structure might be wrong\")\n",
        "\n",
        "        await browser.close()\n",
        "        return token\n",
        "\n",
        "# Run the function\n",
        "await get_token()"
      ],
      "metadata": {
        "id": "1yjhy4dLPFCU",
        "colab": {
          "base_uri": "https://localhost:8080/",
          "height": 174
        },
        "outputId": "0e492423-a1e8-46ae-84be-24f3e330b976"
      },
      "execution_count": 55,
      "outputs": [
        {
          "output_type": "stream",
          "name": "stdout",
          "text": [
            "🔁 Opening Discord...\n",
            "✅ Token extracted and saved to discord_token.txt\n",
            "📁 File saved in: /content/discord_token.txt\n",
            "==================================================\n",
            "🔑 EXTRACTED DISCORD TOKEN:\n",
            "\"MTEzMTg4MTExMTkzNzYyMjE1OA.GeGqn6.Ku1WxA9NbTi7C49mcYfVHymSgA_h-i1hwx8eVE\"\n",
            "==================================================\n",
            "📄 Also saved as: discord_token_20250722_170059.txt\n"
          ]
        },
        {
          "output_type": "execute_result",
          "data": {
            "text/plain": [
              "'\"MTEzMTg4MTExMTkzNzYyMjE1OA.GeGqn6.Ku1WxA9NbTi7C49mcYfVHymSgA_h-i1hwx8eVE\"'"
            ],
            "application/vnd.google.colaboratory.intrinsic+json": {
              "type": "string"
            }
          },
          "metadata": {},
          "execution_count": 55
        }
      ]
    }
  ]
}